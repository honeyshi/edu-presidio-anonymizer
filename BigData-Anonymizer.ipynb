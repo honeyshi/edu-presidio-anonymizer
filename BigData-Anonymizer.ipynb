{
 "cells": [
  {
   "cell_type": "code",
   "execution_count": null,
   "metadata": {
    "id": "myjU1M436ukP"
   },
   "outputs": [],
   "source": [
    "!pip install presidio_analyzer\n",
    "!pip install presidio_anonymizer"
   ]
  },
  {
   "cell_type": "code",
   "execution_count": null,
   "metadata": {
    "id": "kcX_QD7Q8eNj"
   },
   "outputs": [],
   "source": [
    "!python -m spacy download en_core_web_lg"
   ]
  },
  {
   "cell_type": "code",
   "execution_count": 1,
   "metadata": {
    "id": "hrdXx7Tn5FDQ"
   },
   "outputs": [],
   "source": [
    "from presidio_analyzer import AnalyzerEngine, PatternRecognizer\n",
    "from presidio_anonymizer import AnonymizerEngine\n",
    "from presidio_anonymizer.entities import OperatorConfig\n",
    "\n",
    "import requests\n",
    "import os\n",
    "\n",
    "import pandas as pd\n",
    "from wordcloud import WordCloud\n",
    "\n",
    "import matplotlib.pyplot as plt\n",
    "import seaborn as sns\n",
    "sns.set_theme()\n",
    "\n",
    "import tempfile\n",
    "import webbrowser"
   ]
  },
  {
   "cell_type": "code",
   "execution_count": 3,
   "metadata": {},
   "outputs": [],
   "source": [
    "notebook_path = os.path.abspath(\"BigData-Anonymizer.ipynb\")"
   ]
  },
  {
   "cell_type": "code",
   "execution_count": 4,
   "metadata": {},
   "outputs": [],
   "source": [
    "analyzer = AnalyzerEngine()\n",
    "anonymizer = AnonymizerEngine()"
   ]
  },
  {
   "cell_type": "code",
   "execution_count": 5,
   "metadata": {},
   "outputs": [],
   "source": [
    "entities_to_anonymize = [\"PHONE_NUMBER\", \"PERSON\", \"LOCATION\", \"EMAIL_ADDRESS\"]"
   ]
  },
  {
   "cell_type": "code",
   "execution_count": 6,
   "metadata": {},
   "outputs": [],
   "source": [
    "def get_percentage_df(replaced_entity_amount, all_replaced_count):\n",
    "    percentage_list = [round(amount / all_replaced_count * 100, 2) for amount in replaced_entity_amount]\n",
    "    return pd.DataFrame(percentage_list, index=entities_to_anonymize, columns=[\"Percentage\"])"
   ]
  },
  {
   "cell_type": "code",
   "execution_count": 7,
   "metadata": {},
   "outputs": [],
   "source": [
    "def get_entity_type(analyzer_result):\n",
    "    return analyzer_result.split(', ')[0].replace('type: ', '')"
   ]
  },
  {
   "cell_type": "code",
   "execution_count": 8,
   "metadata": {},
   "outputs": [],
   "source": [
    "def calculate_replaced_entity_amount(analyzer_results):\n",
    "    amount_list = [0] * len(entities_to_anonymize)\n",
    "    for analyzer_result in analyzer_results:\n",
    "        entity_index = entities_to_anonymize.index(get_entity_type(str(analyzer_result)))\n",
    "        amount_list[entity_index] += 1\n",
    "    return amount_list"
   ]
  },
  {
   "cell_type": "code",
   "execution_count": 9,
   "metadata": {},
   "outputs": [],
   "source": [
    "def open_html(html):\n",
    "    with tempfile.NamedTemporaryFile('w', delete=False, suffix='.html', encoding='utf-8') as f:\n",
    "        url = 'file://' + f.name\n",
    "        f.write(html)\n",
    "    webbrowser.open_new_tab(url)"
   ]
  },
  {
   "cell_type": "code",
   "execution_count": 10,
   "metadata": {},
   "outputs": [],
   "source": [
    "def analyze_and_anonymize(text_to_anonymize):\n",
    "    analyzer_results = analyzer.analyze(\n",
    "        text=text_to_anonymize,\n",
    "        entities=entities_to_anonymize,\n",
    "        language='en')\n",
    "    anonymized_results = anonymizer.anonymize(\n",
    "        text=text_to_anonymize,\n",
    "        analyzer_results=analyzer_results,    \n",
    "        operators={\"DEFAULT\": OperatorConfig(\"replace\", {\"new_value\": \"!ANONYMIZED!\"})})\n",
    "    return analyzer_results, anonymized_results"
   ]
  },
  {
   "cell_type": "code",
   "execution_count": 11,
   "metadata": {},
   "outputs": [],
   "source": [
    "def analyze_and_anonymize_html(link):\n",
    "    page = requests.get(link)\n",
    "    text_to_anonymize = page.text\n",
    "    open_html(text_to_anonymize)\n",
    "    \n",
    "    analyzer_results, anonymized_html = analyze_and_anonymize(text_to_anonymize)\n",
    "    \n",
    "    replaced_entity_amount = calculate_replaced_entity_amount(analyzer_results)\n",
    "    sns.barplot(x=entities_to_anonymize, y=replaced_entity_amount)\n",
    "    \n",
    "    print(get_percentage_df(replaced_entity_amount, len(analyzer_results)))\n",
    "    \n",
    "    open_html(anonymized_html.text)"
   ]
  },
  {
   "cell_type": "markdown",
   "metadata": {},
   "source": [
    "## Anonymize text example"
   ]
  },
  {
   "cell_type": "code",
   "execution_count": 12,
   "metadata": {},
   "outputs": [],
   "source": [
    "values_to_anonymize_txt_count = 15"
   ]
  },
  {
   "cell_type": "code",
   "execution_count": 13,
   "metadata": {},
   "outputs": [],
   "source": [
    "text_file_path = os.path.join(os.path.dirname(notebook_path), 'textExample.txt')"
   ]
  },
  {
   "cell_type": "code",
   "execution_count": 14,
   "metadata": {},
   "outputs": [],
   "source": [
    "with open(text_file_path, 'r') as file:\n",
    "    txt_to_anonymize = file.read()"
   ]
  },
  {
   "cell_type": "code",
   "execution_count": 15,
   "metadata": {},
   "outputs": [],
   "source": [
    "analyzer_results_txt, anonymized_txt = analyze_and_anonymize(txt_to_anonymize)"
   ]
  },
  {
   "cell_type": "code",
   "execution_count": 16,
   "metadata": {},
   "outputs": [],
   "source": [
    "replaced_entity_amount_txt = calculate_replaced_entity_amount(analyzer_results_txt)"
   ]
  },
  {
   "cell_type": "code",
   "execution_count": 17,
   "metadata": {},
   "outputs": [
    {
     "data": {
      "text/plain": [
       "<AxesSubplot:>"
      ]
     },
     "execution_count": 17,
     "metadata": {},
     "output_type": "execute_result"
    },
    {
     "data": {
      "image/png": "[encoded data removed]",
      "text/plain": [
       "<Figure size 432x288 with 1 Axes>"
      ]
     },
     "metadata": {},
     "output_type": "display_data"
    }
   ],
   "source": [
    "sns.barplot(x=entities_to_anonymize, y=replaced_entity_amount_txt)"
   ]
  },
  {
   "cell_type": "code",
   "execution_count": 18,
   "metadata": {},
   "outputs": [
    {
     "name": "stdout",
     "output_type": "stream",
     "text": [
      "Процент определенных персональных данных: 586.6666666666666 %\n"
     ]
    }
   ],
   "source": [
    "print(\"Процент определенных персональных данных: {0} %\".format(len(analyzer_results_txt) / values_to_anonymize_txt_count * 100))"
   ]
  },
  {
   "cell_type": "code",
   "execution_count": 19,
   "metadata": {},
   "outputs": [
    {
     "data": {
      "text/html": [
       "<div>\n",
       "<style scoped>\n",
       "    .dataframe tbody tr th:only-of-type {\n",
       "        vertical-align: middle;\n",
       "    }\n",
       "\n",
       "    .dataframe tbody tr th {\n",
       "        vertical-align: top;\n",
       "    }\n",
       "\n",
       "    .dataframe thead th {\n",
       "        text-align: right;\n",
       "    }\n",
       "</style>\n",
       "<table border=\"1\" class=\"dataframe\">\n",
       "  <thead>\n",
       "    <tr style=\"text-align: right;\">\n",
       "      <th></th>\n",
       "      <th>Percentage</th>\n",
       "    </tr>\n",
       "  </thead>\n",
       "  <tbody>\n",
       "    <tr>\n",
       "      <th>PHONE_NUMBER</th>\n",
       "      <td>1.14</td>\n",
       "    </tr>\n",
       "    <tr>\n",
       "      <th>PERSON</th>\n",
       "      <td>95.45</td>\n",
       "    </tr>\n",
       "    <tr>\n",
       "      <th>LOCATION</th>\n",
       "      <td>1.14</td>\n",
       "    </tr>\n",
       "    <tr>\n",
       "      <th>EMAIL_ADDRESS</th>\n",
       "      <td>2.27</td>\n",
       "    </tr>\n",
       "  </tbody>\n",
       "</table>\n",
       "</div>"
      ],
      "text/plain": [
       "               Percentage\n",
       "PHONE_NUMBER         1.14\n",
       "PERSON              95.45\n",
       "LOCATION             1.14\n",
       "EMAIL_ADDRESS        2.27"
      ]
     },
     "execution_count": 19,
     "metadata": {},
     "output_type": "execute_result"
    }
   ],
   "source": [
    "get_percentage_df(replaced_entity_amount_txt, len(analyzer_results_txt))"
   ]
  },
  {
   "cell_type": "markdown",
   "metadata": {},
   "source": [
    "Рассотрим анонимизацию текстовых данных. В качестве примера для эксперимента был выбран текст, сгенерированный сервисом https://ru.lipsum.com/, который не несет в себе определенной смысловой нагрузки. В данный текст были дополнительно добавлены персональные данные для рассмотрения, такие как номер телефона, имя и фамилия человека, адрес и адрес электронной почты (в общей сложности 15 данных, которые точно можно отнести к персональным).\n",
    "Как видно из графика, алгоритм определил значительно больше персональных данных, чем изначально их содержалось в тексте. Такая погрешность вызвана тем, что многие данные были отнесены к имени человека. Так как текст генерируется на основе классического текста Lorem Ipsum, возможно, действильно многие данные похожи на имена."
   ]
  },
  {
   "cell_type": "markdown",
   "metadata": {},
   "source": [
    "## Anonymize html example"
   ]
  },
  {
   "cell_type": "code",
   "execution_count": 20,
   "metadata": {},
   "outputs": [],
   "source": [
    "values_to_anonymize_html_count = 10"
   ]
  },
  {
   "cell_type": "code",
   "execution_count": 21,
   "metadata": {},
   "outputs": [],
   "source": [
    "html_file_path = os.path.join(os.path.dirname(notebook_path), 'htmlExample.html')"
   ]
  },
  {
   "cell_type": "code",
   "execution_count": 22,
   "metadata": {},
   "outputs": [],
   "source": [
    "with open(html_file_path, 'r') as file:\n",
    "    html_to_anonymize = file.read()"
   ]
  },
  {
   "cell_type": "code",
   "execution_count": 23,
   "metadata": {},
   "outputs": [],
   "source": [
    "open_html(html_to_anonymize)"
   ]
  },
  {
   "cell_type": "code",
   "execution_count": 24,
   "metadata": {},
   "outputs": [],
   "source": [
    "analyzer_results_html, anonymized_html = analyze_and_anonymize(html_to_anonymize)"
   ]
  },
  {
   "cell_type": "code",
   "execution_count": 25,
   "metadata": {},
   "outputs": [],
   "source": [
    "replaced_entity_amount_html = calculate_replaced_entity_amount(analyzer_results_html)"
   ]
  },
  {
   "cell_type": "code",
   "execution_count": 26,
   "metadata": {},
   "outputs": [
    {
     "data": {
      "text/plain": [
       "<AxesSubplot:>"
      ]
     },
     "execution_count": 26,
     "metadata": {},
     "output_type": "execute_result"
    },
    {
     "data": {
      "image/png": "[encoded data removed]",
      "text/plain": [
       "<Figure size 432x288 with 1 Axes>"
      ]
     },
     "metadata": {},
     "output_type": "display_data"
    }
   ],
   "source": [
    "sns.barplot(x=entities_to_anonymize, y=replaced_entity_amount_html)"
   ]
  },
  {
   "cell_type": "code",
   "execution_count": 27,
   "metadata": {},
   "outputs": [
    {
     "name": "stdout",
     "output_type": "stream",
     "text": [
      "Процент определенных персональных данных: 140.0 %\n"
     ]
    }
   ],
   "source": [
    "print(\"Процент определенных персональных данных: {0} %\".format(len(analyzer_results_html) / values_to_anonymize_html_count * 100))"
   ]
  },
  {
   "cell_type": "code",
   "execution_count": 28,
   "metadata": {},
   "outputs": [
    {
     "data": {
      "text/html": [
       "<div>\n",
       "<style scoped>\n",
       "    .dataframe tbody tr th:only-of-type {\n",
       "        vertical-align: middle;\n",
       "    }\n",
       "\n",
       "    .dataframe tbody tr th {\n",
       "        vertical-align: top;\n",
       "    }\n",
       "\n",
       "    .dataframe thead th {\n",
       "        text-align: right;\n",
       "    }\n",
       "</style>\n",
       "<table border=\"1\" class=\"dataframe\">\n",
       "  <thead>\n",
       "    <tr style=\"text-align: right;\">\n",
       "      <th></th>\n",
       "      <th>Percentage</th>\n",
       "    </tr>\n",
       "  </thead>\n",
       "  <tbody>\n",
       "    <tr>\n",
       "      <th>PHONE_NUMBER</th>\n",
       "      <td>21.43</td>\n",
       "    </tr>\n",
       "    <tr>\n",
       "      <th>PERSON</th>\n",
       "      <td>50.00</td>\n",
       "    </tr>\n",
       "    <tr>\n",
       "      <th>LOCATION</th>\n",
       "      <td>7.14</td>\n",
       "    </tr>\n",
       "    <tr>\n",
       "      <th>EMAIL_ADDRESS</th>\n",
       "      <td>21.43</td>\n",
       "    </tr>\n",
       "  </tbody>\n",
       "</table>\n",
       "</div>"
      ],
      "text/plain": [
       "               Percentage\n",
       "PHONE_NUMBER        21.43\n",
       "PERSON              50.00\n",
       "LOCATION             7.14\n",
       "EMAIL_ADDRESS       21.43"
      ]
     },
     "execution_count": 28,
     "metadata": {},
     "output_type": "execute_result"
    }
   ],
   "source": [
    "get_percentage_df(replaced_entity_amount_html, len(analyzer_results_html))"
   ]
  },
  {
   "cell_type": "code",
   "execution_count": 29,
   "metadata": {},
   "outputs": [],
   "source": [
    "open_html(anonymized_html.text)"
   ]
  },
  {
   "cell_type": "markdown",
   "metadata": {},
   "source": [
    "Рассмотрим анонимизацию данных на html странице. На страницу было добавлено 10 персональных данных с типами номер телефона, имя и фамилия человека, адрес и адрес электронной почты. Как видно из графика алгоритм отнес бОльшее количество данных к персональным, чем число действительно имеющихся на странице. Если рассмотреть итоговую html страницу с замененными данными, то можно увидеть, что некоторые из персональных данных не были скрыты. Также была нарушена структура html, так как некоторые теги были интерепретированы как персональные данные и были заменены. "
   ]
  },
  {
   "cell_type": "markdown",
   "metadata": {},
   "source": [
    "## Anonymize html pages"
   ]
  },
  {
   "cell_type": "code",
   "execution_count": 32,
   "metadata": {
    "id": "yLtpGmzgyjPb"
   },
   "outputs": [],
   "source": [
    "links = [\n",
    "    'https://en.wikipedia.org/wiki/Joseph_Brodsky',\n",
    "    'https://ikeamuseum.com/en/contact/',\n",
    "    'https://www.coca-colacompany.com/company/history',\n",
    "    'https://www.fragrancenet.com/help/aboutus',\n",
    "    'https://authordylanhearn.wordpress.com/2017/02/13/bookblogger-bashing-in-the-end-youre-only-hurting-yourself-mondayblogs/',\n",
    "    'https://www.legalnomads.com/about/',\n",
    "    'https://expertvagabond.com/about/',\n",
    "    'https://www.nomadicmatt.com/about-matt/',\n",
    "    'https://pinchofyum.com/about',\n",
    "    'https://weworewhat.com/pages/about'\n",
    "]"
   ]
  },
  {
   "cell_type": "code",
   "execution_count": 33,
   "metadata": {},
   "outputs": [
    {
     "name": "stdout",
     "output_type": "stream",
     "text": [
      "               Percentage\n",
      "PHONE_NUMBER         0.32\n",
      "PERSON              79.12\n",
      "LOCATION            20.56\n",
      "EMAIL_ADDRESS        0.00\n"
     ]
    },
    {
     "data": {
      "image/png": "[encoded data removed]",
      "text/plain": [
       "<Figure size 432x288 with 1 Axes>"
      ]
     },
     "metadata": {},
     "output_type": "display_data"
    }
   ],
   "source": [
    "analyze_and_anonymize_html(links[0])"
   ]
  },
  {
   "cell_type": "code",
   "execution_count": 34,
   "metadata": {},
   "outputs": [
    {
     "name": "stdout",
     "output_type": "stream",
     "text": [
      "               Percentage\n",
      "PHONE_NUMBER         3.60\n",
      "PERSON              33.33\n",
      "LOCATION            46.85\n",
      "EMAIL_ADDRESS       16.22\n"
     ]
    },
    {
     "data": {
      "image/png": "[encoded data removed]",
      "text/plain": [
       "<Figure size 432x288 with 1 Axes>"
      ]
     },
     "metadata": {},
     "output_type": "display_data"
    }
   ],
   "source": [
    "analyze_and_anonymize_html(links[1])"
   ]
  },
  {
   "cell_type": "code",
   "execution_count": 36,
   "metadata": {},
   "outputs": [
    {
     "name": "stdout",
     "output_type": "stream",
     "text": [
      "               Percentage\n",
      "PHONE_NUMBER         0.00\n",
      "PERSON              77.66\n",
      "LOCATION            22.34\n",
      "EMAIL_ADDRESS        0.00\n"
     ]
    },
    {
     "data": {
      "image/png": "[encoded data removed]",
      "text/plain": [
       "<Figure size 432x288 with 1 Axes>"
      ]
     },
     "metadata": {},
     "output_type": "display_data"
    }
   ],
   "source": [
    "analyze_and_anonymize_html(links[2])"
   ]
  },
  {
   "cell_type": "code",
   "execution_count": 37,
   "metadata": {},
   "outputs": [
    {
     "name": "stdout",
     "output_type": "stream",
     "text": [
      "               Percentage\n",
      "PHONE_NUMBER        21.78\n",
      "PERSON              69.31\n",
      "LOCATION             6.93\n",
      "EMAIL_ADDRESS        1.98\n"
     ]
    },
    {
     "data": {
      "image/png": "[encoded data removed]",
      "text/plain": [
       "<Figure size 432x288 with 1 Axes>"
      ]
     },
     "metadata": {},
     "output_type": "display_data"
    }
   ],
   "source": [
    "analyze_and_anonymize_html(links[3])"
   ]
  },
  {
   "cell_type": "code",
   "execution_count": 38,
   "metadata": {},
   "outputs": [
    {
     "name": "stdout",
     "output_type": "stream",
     "text": [
      "               Percentage\n",
      "PHONE_NUMBER        15.66\n",
      "PERSON              79.29\n",
      "LOCATION             5.05\n",
      "EMAIL_ADDRESS        0.00\n"
     ]
    },
    {
     "data": {
      "image/png": "[encoded data removed]",
      "text/plain": [
       "<Figure size 432x288 with 1 Axes>"
      ]
     },
     "metadata": {},
     "output_type": "display_data"
    }
   ],
   "source": [
    "analyze_and_anonymize_html(links[4])"
   ]
  },
  {
   "cell_type": "code",
   "execution_count": 41,
   "metadata": {},
   "outputs": [
    {
     "name": "stdout",
     "output_type": "stream",
     "text": [
      "               Percentage\n",
      "PHONE_NUMBER        10.26\n",
      "PERSON              74.17\n",
      "LOCATION            15.56\n",
      "EMAIL_ADDRESS        0.00\n"
     ]
    },
    {
     "data": {
      "image/png": "[encoded data removed]",
      "text/plain": [
       "<Figure size 432x288 with 1 Axes>"
      ]
     },
     "metadata": {},
     "output_type": "display_data"
    }
   ],
   "source": [
    "analyze_and_anonymize_html(links[5])"
   ]
  },
  {
   "cell_type": "code",
   "execution_count": 43,
   "metadata": {},
   "outputs": [
    {
     "name": "stdout",
     "output_type": "stream",
     "text": [
      "               Percentage\n",
      "PHONE_NUMBER        20.50\n",
      "PERSON              62.34\n",
      "LOCATION            17.15\n",
      "EMAIL_ADDRESS        0.00\n"
     ]
    },
    {
     "data": {
      "image/png": "[encoded data removed]",
      "text/plain": [
       "<Figure size 432x288 with 1 Axes>"
      ]
     },
     "metadata": {},
     "output_type": "display_data"
    }
   ],
   "source": [
    "analyze_and_anonymize_html(links[6])"
   ]
  },
  {
   "cell_type": "code",
   "execution_count": 44,
   "metadata": {},
   "outputs": [
    {
     "name": "stdout",
     "output_type": "stream",
     "text": [
      "               Percentage\n",
      "PHONE_NUMBER        10.14\n",
      "PERSON              81.16\n",
      "LOCATION             7.73\n",
      "EMAIL_ADDRESS        0.97\n"
     ]
    },
    {
     "data": {
      "image/png": "[encoded data removed]",
      "text/plain": [
       "<Figure size 432x288 with 1 Axes>"
      ]
     },
     "metadata": {},
     "output_type": "display_data"
    }
   ],
   "source": [
    "analyze_and_anonymize_html(links[7])"
   ]
  },
  {
   "cell_type": "code",
   "execution_count": 46,
   "metadata": {},
   "outputs": [
    {
     "name": "stdout",
     "output_type": "stream",
     "text": [
      "               Percentage\n",
      "PHONE_NUMBER         8.06\n",
      "PERSON              84.98\n",
      "LOCATION             6.59\n",
      "EMAIL_ADDRESS        0.37\n"
     ]
    },
    {
     "data": {
      "image/png": "[encoded data removed]",
      "text/plain": [
       "<Figure size 432x288 with 1 Axes>"
      ]
     },
     "metadata": {},
     "output_type": "display_data"
    }
   ],
   "source": [
    "analyze_and_anonymize_html(links[8])"
   ]
  },
  {
   "cell_type": "code",
   "execution_count": null,
   "metadata": {},
   "outputs": [],
   "source": [
    "analyze_and_anonymize_html(links[9])"
   ]
  },
  {
   "cell_type": "markdown",
   "metadata": {},
   "source": [
    "При применении алгоритма на html страницах из интернета, также сильно нарушается структура html, теряется применение стилей, соответственно алгоритм относит неперсональные данные к персональным.\n",
    "На графиках с количеством персональных данных по категориям можно заметить, что алгоритм делает неплохое разбиение проанализированных данных по типам. Например, в статье из Википедии отсутствовали адреса электронной почты и номера телефонов, что и отражено на графике. Также на странице с контактами компании солержится большое количество адресов и адресов электронной почты. На страницах взятых из личных блогов людей наибольшее количество персональных данных относится к типу имени и фамилии человека. \n",
    "\n",
    "Несмотря на то, что алгоритм показывает хорошие результаты на примерах из официальной документации, его применение для html страниц можно поставить под сомнение, ввиду проведенных экспериментов. Алгоритм изменяет структуру html кода, что приводит к изменению верстки и потери применяемых стилей."
   ]
  }
 ],
 "metadata": {
  "colab": {
   "collapsed_sections": [],
   "name": "BigData2ipynb",
   "provenance": []
  },
  "kernelspec": {
   "display_name": "Python 3 (ipykernel)",
   "language": "python",
   "name": "python3"
  },
  "language_info": {
   "codemirror_mode": {
    "name": "ipython",
    "version": 3
   },
   "file_extension": ".py",
   "mimetype": "text/x-python",
   "name": "python",
   "nbconvert_exporter": "python",
   "pygments_lexer": "ipython3",
   "version": "3.8.10"
  }
 },
 "nbformat": 4,
 "nbformat_minor": 1
}
